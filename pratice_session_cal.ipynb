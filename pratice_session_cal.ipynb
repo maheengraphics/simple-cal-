{
  "nbformat": 4,
  "nbformat_minor": 0,
  "metadata": {
    "colab": {
      "provenance": [],
      "authorship_tag": "ABX9TyNxjBnRWNgZtd4i+n7PeSt5",
      "include_colab_link": true
    },
    "kernelspec": {
      "name": "python3",
      "display_name": "Python 3"
    },
    "language_info": {
      "name": "python"
    }
  },
  "cells": [
    {
      "cell_type": "markdown",
      "metadata": {
        "id": "view-in-github",
        "colab_type": "text"
      },
      "source": [
        "<a href=\"https://colab.research.google.com/github/maheengraphics/simple-cal-/blob/main/pratice_session_cal.ipynb\" target=\"_parent\"><img src=\"https://colab.research.google.com/assets/colab-badge.svg\" alt=\"Open In Colab\"/></a>"
      ]
    },
    {
      "cell_type": "code",
      "execution_count": 1,
      "metadata": {
        "colab": {
          "base_uri": "https://localhost:8080/"
        },
        "id": "_8RU58HGIlIK",
        "outputId": "a3f1ed92-0d31-4b41-a8dc-d3ed1ff85f83"
      },
      "outputs": [
        {
          "output_type": "stream",
          "name": "stdout",
          "text": [
            "Simple Calculator\n",
            "Select operation:\n",
            "1. Add\n",
            "2. Subtract\n",
            "3. Multiply\n",
            "4. Divide\n",
            "Enter choice (1/2/3/4): 3\n",
            "Enter first number: 60\n",
            "Enter second number: 60\n",
            "60.0 * 60.0 = 3600.0\n"
          ]
        }
      ],
      "source": [
        "# Simple Calculator in Python\n",
        "\n",
        "# Function to perform addition\n",
        "def add(x, y):\n",
        "    return x + y\n",
        "\n",
        "# Function to perform subtraction\n",
        "def subtract(x, y):\n",
        "    return x - y\n",
        "\n",
        "# Function to perform multiplication\n",
        "def multiply(x, y):\n",
        "    return x * y\n",
        "\n",
        "# Function to perform division\n",
        "def divide(x, y):\n",
        "    if y != 0:\n",
        "        return x / y\n",
        "    else:\n",
        "        return \"Error! Division by zero.\"\n",
        "\n",
        "# Function to display the menu and get user input\n",
        "def calculator():\n",
        "    print(\"Simple Calculator\")\n",
        "    print(\"Select operation:\")\n",
        "    print(\"1. Add\")\n",
        "    print(\"2. Subtract\")\n",
        "    print(\"3. Multiply\")\n",
        "    print(\"4. Divide\")\n",
        "\n",
        "    # Take input from the user\n",
        "    choice = input(\"Enter choice (1/2/3/4): \")\n",
        "\n",
        "    # Check if choice is valid\n",
        "    if choice in ['1', '2', '3', '4']:\n",
        "        num1 = float(input(\"Enter first number: \"))\n",
        "        num2 = float(input(\"Enter second number: \"))\n",
        "\n",
        "        if choice == '1':\n",
        "            print(f\"{num1} + {num2} = {add(num1, num2)}\")\n",
        "        elif choice == '2':\n",
        "            print(f\"{num1} - {num2} = {subtract(num1, num2)}\")\n",
        "        elif choice == '3':\n",
        "            print(f\"{num1} * {num2} = {multiply(num1, num2)}\")\n",
        "        elif choice == '4':\n",
        "            print(f\"{num1} / {num2} = {divide(num1, num2)}\")\n",
        "    else:\n",
        "        print(\"Invalid Input\")\n",
        "\n",
        "# Call the calculator function\n",
        "calculator()\n"
      ]
    }
  ]
}